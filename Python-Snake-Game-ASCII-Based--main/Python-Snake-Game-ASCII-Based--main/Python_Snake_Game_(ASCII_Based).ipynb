{
  "nbformat": 4,
  "nbformat_minor": 0,
  "metadata": {
    "colab": {
      "provenance": [],
      "authorship_tag": "ABX9TyOL2LyQ/FG9ptxGOlux26Ex",
      "include_colab_link": true
    },
    "kernelspec": {
      "name": "python3",
      "display_name": "Python 3"
    },
    "language_info": {
      "name": "python"
    }
  },
  "cells": [
    {
      "cell_type": "markdown",
      "metadata": {
        "id": "view-in-github",
        "colab_type": "text"
      },
      "source": [
        "<a href=\"https://colab.research.google.com/github/Dharshini-22112004/Python-Snake-Game-ASCII-Based-/blob/main/Python_Snake_Game_(ASCII_Based).ipynb\" target=\"_parent\"><img src=\"https://colab.research.google.com/assets/colab-badge.svg\" alt=\"Open In Colab\"/></a>"
      ]
    },
    {
      "cell_type": "code",
      "execution_count": 4,
      "metadata": {
        "colab": {
          "base_uri": "https://localhost:8080/"
        },
        "id": "paz6gTe4z0Ns",
        "outputId": "750dd806-6c6d-43e7-fb4d-a1597ce3265f"
      },
      "outputs": [
        {
          "output_type": "stream",
          "name": "stdout",
          "text": [
            "O.........\n",
            "..........\n",
            "..........\n",
            "..........\n",
            "..........\n",
            "..........\n",
            "..........\n",
            "..F.......\n",
            "..........\n",
            "..........\n",
            "\n",
            "Use 'W', 'A', 'S', 'D' keys to move.\n",
            "\n",
            "Enter move (W/A/S/D): A\n",
            "Game Over! Snake hit the wall!\n"
          ]
        }
      ],
      "source": [
        "import random\n",
        "import time\n",
        "import os\n",
        "\n",
        "def display_snake(grid, snake):\n",
        "    os.system('clear')  # Use 'cls' for Windows\n",
        "    for i, row in enumerate(grid):\n",
        "        for j, col in enumerate(row):\n",
        "            if (i, j) in snake:\n",
        "                print(\"O\", end=\"\")\n",
        "            elif grid[i][j] == \"F\":\n",
        "                print(\"F\", end=\"\")\n",
        "            else:\n",
        "                print(\".\", end=\"\")\n",
        "        print()\n",
        "    print(\"\\nUse 'W', 'A', 'S', 'D' keys to move.\\n\")\n",
        "\n",
        "def move_snake(snake, direction, food):\n",
        "    head = snake[-1]\n",
        "    new_head = (head[0] + direction[0], head[1] + direction[1])\n",
        "    if new_head == food:\n",
        "        snake.append(new_head)\n",
        "        return True  # Food eaten\n",
        "    else:\n",
        "        snake.pop(0)\n",
        "        snake.append(new_head)\n",
        "        return False\n",
        "\n",
        "def game():\n",
        "    grid_size = 10\n",
        "    grid = [[\".\" for _ in range(grid_size)] for _ in range(grid_size)]\n",
        "    snake = [(0, 0)]\n",
        "    food = (random.randint(0, grid_size - 1), random.randint(0, grid_size - 1))\n",
        "    grid[food[0]][food[1]] = \"F\"\n",
        "    direction = (0, 1)  # Start moving right\n",
        "\n",
        "    while True:\n",
        "        display_snake(grid, snake)\n",
        "        move = input(\"Enter move (W/A/S/D): \").upper()\n",
        "        if move == \"W\":\n",
        "            direction = (-1, 0)\n",
        "        elif move == \"A\":\n",
        "            direction = (0, -1)\n",
        "        elif move == \"S\":\n",
        "            direction = (1, 0)\n",
        "        elif move == \"D\":\n",
        "            direction = (0, 1)\n",
        "        else:\n",
        "            print(\"Invalid move!\")\n",
        "            continue\n",
        "\n",
        "        if not (0 <= snake[-1][0] + direction[0] < grid_size and\n",
        "                0 <= snake[-1][1] + direction[1] < grid_size):\n",
        "            print(\"Game Over! Snake hit the wall!\")\n",
        "            break\n",
        "\n",
        "        if move_snake(snake, direction, food):\n",
        "            food = (random.randint(0, grid_size - 1), random.randint(0, grid_size - 1))\n",
        "            grid[food[0]][food[1]] = \"F\"\n",
        "\n",
        "game()\n"
      ]
    }
  ]
}